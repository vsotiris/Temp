{
 "cells": [
  {
   "cell_type": "code",
   "execution_count": 260,
   "metadata": {
    "collapsed": true
   },
   "outputs": [],
   "source": [
    "# Question #1\n",
    "\n",
    "import pandas as pd\n",
    "import numpy as np\n",
    "import matplotlib.pyplot as plt"
   ]
  },
  {
   "cell_type": "code",
   "execution_count": 612,
   "metadata": {
    "collapsed": false
   },
   "outputs": [],
   "source": [
    "#Customer functions\n",
    "def describe(df, df_name):\n",
    "    # Input:\n",
    "    # df - dataframe\n",
    "    # df_name - name of dataframe\n",
    "    #\n",
    "    # Output\n",
    "    # Descriptive statistics on the number of duplicates, number of missing and number of errors in dataset\n",
    "    \n",
    "    df['dup_acct'] = df.duplicated(['acct_id'])\n",
    "    df_num_dup_rec=df['dup_acct'].sum()\n",
    "    dup_df=df[df['dup_acct']==True]\n",
    "    df_num_dup_acct=dup_df['acct_id'].nunique()\n",
    "    print('Number of duplicate records in {} dataset: {}' .format(df_name, df_num_dup_rec))\n",
    "    print('Number of duplicate accounts in {} dataset: {}' .format(df_name, df_num_dup_acct))\n",
    "    \n",
    "    #Missing data\n",
    "    miss=df.isnull().sum()\n",
    "    print('Number of missing {} in {} dataset: {}' .format(pd.DataFrame(df.isnull().sum()).index[0], df_name, miss[0]))\n",
    "    print('Number of missing {}s in {} dataset: {}' .format(pd.DataFrame(df.isnull().sum()).index[1], df_name, miss[1]))\n",
    "    \n",
    "    if df_name=='FICO' or df_name=='fico':\n",
    "        #Identify missing records with a \"Missing\" tag and non-numeric FICO values with an \"Error\" tag\n",
    "        df['FICO']=pd.to_numeric(df['FICO'], errors='ignore').fillna(0)\n",
    "        df['FICO']=pd.to_numeric(df['FICO'], errors='coerce').fillna(\"Error\")\n",
    "        df['FICO']=df['FICO'].replace({0: 'Missing'})\n",
    "        \n",
    "        print('Number of records with erroneous FICO score {}' .format(len(df[df['FICO']=='Error'])))\n",
    "        \n",
    "def freqtable(df):\n",
    "    #Input:\n",
    "    # df - dataframe\n",
    "    #\n",
    "    # Output: \n",
    "    # Frequency and percent count for each group (segment)\n",
    "    \n",
    "    s = df.groupby(['seg'])['acct_id'].size()\n",
    "    N = s.reset_index()['acct_id'].sum()\n",
    "    s_len = s / N\n",
    "    freqtable = pd.concat([s, s_len], axis=1).set_axis(['n', 'pct'], axis=1, inplace=False).reset_index()\n",
    "    print(freqtable)\n",
    "    return freqtable\n",
    "\n",
    "def plotfico(res):\n",
    "    # Plot bar chart of resulting grouped frequencies and percent counts\n",
    "    plt.style.use('ggplot')\n",
    "    categories =pd.Series(pd.Categorical(res['seg'].cat.categories))\n",
    "    #categories=categories.cat.rename_categories(['(0, 749]','(749, 804]','(804,839]','(839, 850]','Missing'])\n",
    "    ind = np.array([x for x, _ in enumerate(categories)])\n",
    "    width = 0.35       \n",
    "    \n",
    "    fig, ax1 = plt.subplots()\n",
    "    color = 'tab:red'\n",
    "    ax1.set_xlabel('FICO Segments')\n",
    "    ax1.set_ylabel('Frequency', color=color)\n",
    "    ax1.bar(ind, res.iloc[:,1], width, color=color)\n",
    "    ax1.tick_params(axis='y', labelcolor=color)\n",
    "    \n",
    "    plt.xticks(ind + width / 2, categories)\n",
    "    \n",
    "    ax2 = ax1.twinx()  # instantiate a second axes that shares the same x-axis\n",
    "    color = 'tab:blue'\n",
    "    ax2.set_ylabel('Percent', color=color)  # we already handled the x-label with ax1\n",
    "    ax2.bar(ind, res.iloc[:,2], width, color=color)\n",
    "    ax2.tick_params(axis='y', labelcolor=color)\n",
    "    \n",
    "    fig.tight_layout()  # otherwise the right y-label is slightly clipped\n",
    "    plt.show()"
   ]
  },
  {
   "cell_type": "code",
   "execution_count": 578,
   "metadata": {
    "collapsed": false
   },
   "outputs": [],
   "source": [
    "#Read fico and region .csv files into Pandas dataframe\n",
    "fico=pd.read_csv('B30_written_test_fico.csv')\n",
    "region=pd.read_csv('B30_written_test_region.csv')"
   ]
  },
  {
   "cell_type": "code",
   "execution_count": 579,
   "metadata": {
    "collapsed": true
   },
   "outputs": [],
   "source": [
    "#Sort fico dataset by acct_id\n",
    "fico=fico.sort_values(by='acct_id', ascending=True)"
   ]
  },
  {
   "cell_type": "code",
   "execution_count": 580,
   "metadata": {
    "collapsed": false
   },
   "outputs": [
    {
     "name": "stdout",
     "output_type": "stream",
     "text": [
      "Number of duplicate records in FICO dataset: 13\n",
      "Number of duplicate accounts in FICO dataset: 13\n",
      "Number of missing acct_id in FICO dataset: 0\n",
      "Number of missing FICOs in FICO dataset: 29615\n",
      "Number of records with erroneous FICO score 2\n"
     ]
    }
   ],
   "source": [
    "describe(fico.copy(),'FICO')\n",
    "# Observation: a large portion of the FICOs are missing"
   ]
  },
  {
   "cell_type": "code",
   "execution_count": 581,
   "metadata": {
    "collapsed": false
   },
   "outputs": [
    {
     "name": "stdout",
     "output_type": "stream",
     "text": [
      "Number of duplicate records in REGION dataset: 173\n",
      "Number of duplicate accounts in REGION dataset: 124\n",
      "Number of missing acct_id in REGION dataset: 0\n",
      "Number of missing regions in REGION dataset: 0\n"
     ]
    }
   ],
   "source": [
    "describe(region.copy(),'REGION')"
   ]
  },
  {
   "cell_type": "code",
   "execution_count": 582,
   "metadata": {
    "collapsed": false
   },
   "outputs": [
    {
     "name": "stderr",
     "output_type": "stream",
     "text": [
      "C:\\Program Files\\Anaconda3\\envs\\py36\\lib\\site-packages\\ipykernel_launcher.py:13: SettingWithCopyWarning: \n",
      "A value is trying to be set on a copy of a slice from a DataFrame.\n",
      "Try using .loc[row_indexer,col_indexer] = value instead\n",
      "\n",
      "See the caveats in the documentation: http://pandas.pydata.org/pandas-docs/stable/indexing.html#indexing-view-versus-copy\n",
      "  del sys.path[0]\n"
     ]
    },
    {
     "data": {
      "text/html": [
       "<div>\n",
       "<style scoped>\n",
       "    .dataframe tbody tr th:only-of-type {\n",
       "        vertical-align: middle;\n",
       "    }\n",
       "\n",
       "    .dataframe tbody tr th {\n",
       "        vertical-align: top;\n",
       "    }\n",
       "\n",
       "    .dataframe thead th {\n",
       "        text-align: right;\n",
       "    }\n",
       "</style>\n",
       "<table border=\"1\" class=\"dataframe\">\n",
       "  <thead>\n",
       "    <tr style=\"text-align: right;\">\n",
       "      <th></th>\n",
       "      <th>acct_id</th>\n",
       "      <th>FICO</th>\n",
       "    </tr>\n",
       "  </thead>\n",
       "  <tbody>\n",
       "    <tr>\n",
       "      <th>count</th>\n",
       "      <td>70386.000000</td>\n",
       "      <td>70386.000000</td>\n",
       "    </tr>\n",
       "    <tr>\n",
       "      <th>mean</th>\n",
       "      <td>50280.373966</td>\n",
       "      <td>785.747066</td>\n",
       "    </tr>\n",
       "    <tr>\n",
       "      <th>std</th>\n",
       "      <td>27740.592764</td>\n",
       "      <td>64.603625</td>\n",
       "    </tr>\n",
       "    <tr>\n",
       "      <th>min</th>\n",
       "      <td>1.000000</td>\n",
       "      <td>420.000000</td>\n",
       "    </tr>\n",
       "    <tr>\n",
       "      <th>25%</th>\n",
       "      <td>26143.250000</td>\n",
       "      <td>749.000000</td>\n",
       "    </tr>\n",
       "    <tr>\n",
       "      <th>50%</th>\n",
       "      <td>49720.500000</td>\n",
       "      <td>804.000000</td>\n",
       "    </tr>\n",
       "    <tr>\n",
       "      <th>75%</th>\n",
       "      <td>73245.750000</td>\n",
       "      <td>839.000000</td>\n",
       "    </tr>\n",
       "    <tr>\n",
       "      <th>max</th>\n",
       "      <td>99992.000000</td>\n",
       "      <td>850.000000</td>\n",
       "    </tr>\n",
       "  </tbody>\n",
       "</table>\n",
       "</div>"
      ],
      "text/plain": [
       "            acct_id          FICO\n",
       "count  70386.000000  70386.000000\n",
       "mean   50280.373966    785.747066\n",
       "std    27740.592764     64.603625\n",
       "min        1.000000    420.000000\n",
       "25%    26143.250000    749.000000\n",
       "50%    49720.500000    804.000000\n",
       "75%    73245.750000    839.000000\n",
       "max    99992.000000    850.000000"
      ]
     },
     "execution_count": 582,
     "metadata": {},
     "output_type": "execute_result"
    }
   ],
   "source": [
    "#Get descriptive statistics based on FICO dataset which excludes missing and errors\n",
    "#Remove missing and errors\n",
    "# We see that, once missing and errors are removed the FICO range is 420 to 850\n",
    "# The average FICO seems high at 785\n",
    "\n",
    "fico_nomiss=fico.copy()\n",
    "fico_nomiss['FICO']=pd.to_numeric(fico_nomiss['FICO'], errors='ignore').fillna(0)\n",
    "fico_nomiss['FICO']=pd.to_numeric(fico_nomiss['FICO'], errors='coerce').fillna(\"Error\")\n",
    "fico_nomiss['FICO']=fico_nomiss['FICO'].replace({0: 'Missing'})\n",
    "\n",
    "fico_nomiss = fico_nomiss[fico_nomiss.FICO != 'Missing']\n",
    "fico_nomiss = fico_nomiss[fico_nomiss.FICO != 'Error']\n",
    "\n",
    "#remove duplicates\n",
    "fico_nomiss_nodups=fico_nomiss.drop_duplicates()\n",
    "fico_nomiss_nodups['FICO']=pd.to_numeric(fico_nomiss_nodups['FICO'], errors='coerce')\n",
    "fico_nomiss_nodups.describe(include='all')"
   ]
  },
  {
   "cell_type": "code",
   "execution_count": 583,
   "metadata": {
    "collapsed": false
   },
   "outputs": [
    {
     "data": {
      "text/html": [
       "<div>\n",
       "<style scoped>\n",
       "    .dataframe tbody tr th:only-of-type {\n",
       "        vertical-align: middle;\n",
       "    }\n",
       "\n",
       "    .dataframe tbody tr th {\n",
       "        vertical-align: top;\n",
       "    }\n",
       "\n",
       "    .dataframe thead th {\n",
       "        text-align: right;\n",
       "    }\n",
       "</style>\n",
       "<table border=\"1\" class=\"dataframe\">\n",
       "  <thead>\n",
       "    <tr style=\"text-align: right;\">\n",
       "      <th></th>\n",
       "      <th>acct_id</th>\n",
       "      <th>FICO</th>\n",
       "    </tr>\n",
       "  </thead>\n",
       "  <tbody>\n",
       "    <tr>\n",
       "      <th>count</th>\n",
       "      <td>99998.000000</td>\n",
       "      <td>99998.000000</td>\n",
       "    </tr>\n",
       "    <tr>\n",
       "      <th>mean</th>\n",
       "      <td>50000.498680</td>\n",
       "      <td>848.896788</td>\n",
       "    </tr>\n",
       "    <tr>\n",
       "      <th>std</th>\n",
       "      <td>28867.082764</td>\n",
       "      <td>111.430549</td>\n",
       "    </tr>\n",
       "    <tr>\n",
       "      <th>min</th>\n",
       "      <td>1.000000</td>\n",
       "      <td>420.000000</td>\n",
       "    </tr>\n",
       "    <tr>\n",
       "      <th>25%</th>\n",
       "      <td>25001.250000</td>\n",
       "      <td>775.000000</td>\n",
       "    </tr>\n",
       "    <tr>\n",
       "      <th>50%</th>\n",
       "      <td>50000.500000</td>\n",
       "      <td>835.000000</td>\n",
       "    </tr>\n",
       "    <tr>\n",
       "      <th>75%</th>\n",
       "      <td>74999.750000</td>\n",
       "      <td>999.000000</td>\n",
       "    </tr>\n",
       "    <tr>\n",
       "      <th>max</th>\n",
       "      <td>100000.000000</td>\n",
       "      <td>999.000000</td>\n",
       "    </tr>\n",
       "  </tbody>\n",
       "</table>\n",
       "</div>"
      ],
      "text/plain": [
       "             acct_id          FICO\n",
       "count   99998.000000  99998.000000\n",
       "mean    50000.498680    848.896788\n",
       "std     28867.082764    111.430549\n",
       "min         1.000000    420.000000\n",
       "25%     25001.250000    775.000000\n",
       "50%     50000.500000    835.000000\n",
       "75%     74999.750000    999.000000\n",
       "max    100000.000000    999.000000"
      ]
     },
     "execution_count": 583,
     "metadata": {},
     "output_type": "execute_result"
    }
   ],
   "source": [
    "\n",
    "\n",
    "fico1=fico.copy()\n",
    "#Missing FICOs are temporarily assigned a 999 value\n",
    "fico1['FICO']=pd.to_numeric(fico1['FICO'], errors='ignore').fillna(999)\n",
    "\n",
    "fico1 = fico1[fico1.FICO != 'AA']\n",
    "fico1 = fico1[fico1.FICO != 'SSS']\n",
    "\n",
    "fico1=fico1.drop_duplicates()\n",
    "\n",
    "fico1['FICO']=pd.to_numeric(fico1['FICO'], errors='coerce').astype(np.float64)\n",
    "fico1.describe()"
   ]
  },
  {
   "cell_type": "code",
   "execution_count": 584,
   "metadata": {
    "collapsed": false
   },
   "outputs": [],
   "source": [
    "#Create 5 FICO score segments\n",
    "#Get frequency and percentage of customers in each segment\n",
    "# The segments where selected to capture the majority of the population\n",
    "\n",
    "bins=[0,600,700,800,850,999] \n",
    "fico1['seg']=pd.cut(fico1['FICO'], bins)"
   ]
  },
  {
   "cell_type": "code",
   "execution_count": 585,
   "metadata": {
    "collapsed": false
   },
   "outputs": [
    {
     "name": "stdout",
     "output_type": "stream",
     "text": [
      "          seg      n       pct\n",
      "0    (0, 600]   1063  0.010630\n",
      "1  (600, 700]   6888  0.068881\n",
      "2  (700, 800]  25852  0.258525\n",
      "3  (800, 850]  36583  0.365837\n",
      "4  (850, 999]  29612  0.296126\n"
     ]
    },
    {
     "data": {
      "text/html": [
       "<div>\n",
       "<style scoped>\n",
       "    .dataframe tbody tr th:only-of-type {\n",
       "        vertical-align: middle;\n",
       "    }\n",
       "\n",
       "    .dataframe tbody tr th {\n",
       "        vertical-align: top;\n",
       "    }\n",
       "\n",
       "    .dataframe thead th {\n",
       "        text-align: right;\n",
       "    }\n",
       "</style>\n",
       "<table border=\"1\" class=\"dataframe\">\n",
       "  <thead>\n",
       "    <tr style=\"text-align: right;\">\n",
       "      <th></th>\n",
       "      <th>seg</th>\n",
       "      <th>n</th>\n",
       "      <th>pct</th>\n",
       "    </tr>\n",
       "  </thead>\n",
       "  <tbody>\n",
       "    <tr>\n",
       "      <th>0</th>\n",
       "      <td>(0, 600]</td>\n",
       "      <td>1063</td>\n",
       "      <td>0.010630</td>\n",
       "    </tr>\n",
       "    <tr>\n",
       "      <th>1</th>\n",
       "      <td>(600, 700]</td>\n",
       "      <td>6888</td>\n",
       "      <td>0.068881</td>\n",
       "    </tr>\n",
       "    <tr>\n",
       "      <th>2</th>\n",
       "      <td>(700, 800]</td>\n",
       "      <td>25852</td>\n",
       "      <td>0.258525</td>\n",
       "    </tr>\n",
       "    <tr>\n",
       "      <th>3</th>\n",
       "      <td>(800, 850]</td>\n",
       "      <td>36583</td>\n",
       "      <td>0.365837</td>\n",
       "    </tr>\n",
       "    <tr>\n",
       "      <th>4</th>\n",
       "      <td>(850, 999]</td>\n",
       "      <td>29612</td>\n",
       "      <td>0.296126</td>\n",
       "    </tr>\n",
       "  </tbody>\n",
       "</table>\n",
       "</div>"
      ],
      "text/plain": [
       "          seg      n       pct\n",
       "0    (0, 600]   1063  0.010630\n",
       "1  (600, 700]   6888  0.068881\n",
       "2  (700, 800]  25852  0.258525\n",
       "3  (800, 850]  36583  0.365837\n",
       "4  (850, 999]  29612  0.296126"
      ]
     },
     "execution_count": 585,
     "metadata": {},
     "output_type": "execute_result"
    }
   ],
   "source": [
    "freqtable(fico1)"
   ]
  },
  {
   "cell_type": "code",
   "execution_count": 586,
   "metadata": {
    "collapsed": false
   },
   "outputs": [
    {
     "data": {
      "text/html": [
       "<div>\n",
       "<style scoped>\n",
       "    .dataframe tbody tr th:only-of-type {\n",
       "        vertical-align: middle;\n",
       "    }\n",
       "\n",
       "    .dataframe tbody tr th {\n",
       "        vertical-align: top;\n",
       "    }\n",
       "\n",
       "    .dataframe thead th {\n",
       "        text-align: right;\n",
       "    }\n",
       "</style>\n",
       "<table border=\"1\" class=\"dataframe\">\n",
       "  <thead>\n",
       "    <tr style=\"text-align: right;\">\n",
       "      <th></th>\n",
       "      <th>acct_id</th>\n",
       "      <th>FICO</th>\n",
       "    </tr>\n",
       "  </thead>\n",
       "  <tbody>\n",
       "    <tr>\n",
       "      <th>count</th>\n",
       "      <td>70386.000000</td>\n",
       "      <td>70386.000000</td>\n",
       "    </tr>\n",
       "    <tr>\n",
       "      <th>mean</th>\n",
       "      <td>50280.373966</td>\n",
       "      <td>785.747066</td>\n",
       "    </tr>\n",
       "    <tr>\n",
       "      <th>std</th>\n",
       "      <td>27740.592764</td>\n",
       "      <td>64.603625</td>\n",
       "    </tr>\n",
       "    <tr>\n",
       "      <th>min</th>\n",
       "      <td>1.000000</td>\n",
       "      <td>420.000000</td>\n",
       "    </tr>\n",
       "    <tr>\n",
       "      <th>25%</th>\n",
       "      <td>26143.250000</td>\n",
       "      <td>749.000000</td>\n",
       "    </tr>\n",
       "    <tr>\n",
       "      <th>50%</th>\n",
       "      <td>49720.500000</td>\n",
       "      <td>804.000000</td>\n",
       "    </tr>\n",
       "    <tr>\n",
       "      <th>75%</th>\n",
       "      <td>73245.750000</td>\n",
       "      <td>839.000000</td>\n",
       "    </tr>\n",
       "    <tr>\n",
       "      <th>max</th>\n",
       "      <td>99992.000000</td>\n",
       "      <td>850.000000</td>\n",
       "    </tr>\n",
       "  </tbody>\n",
       "</table>\n",
       "</div>"
      ],
      "text/plain": [
       "            acct_id          FICO\n",
       "count  70386.000000  70386.000000\n",
       "mean   50280.373966    785.747066\n",
       "std    27740.592764     64.603625\n",
       "min        1.000000    420.000000\n",
       "25%    26143.250000    749.000000\n",
       "50%    49720.500000    804.000000\n",
       "75%    73245.750000    839.000000\n",
       "max    99992.000000    850.000000"
      ]
     },
     "execution_count": 586,
     "metadata": {},
     "output_type": "execute_result"
    }
   ],
   "source": [
    "fico1=fico.copy()\n",
    "fico1['FICO']=pd.to_numeric(fico1['FICO'], errors='ignore').fillna(\"Missing\")\n",
    "\n",
    "fico1 = fico1[fico1.FICO != 'Missing']\n",
    "fico1 = fico1[fico1.FICO != 'AA']\n",
    "fico1 = fico1[fico1.FICO != 'SSS']\n",
    "\n",
    "fico1=fico1.drop_duplicates()\n",
    "\n",
    "fico1['FICO']=pd.to_numeric(fico1['FICO'], errors='coerce').astype(np.float64)\n",
    "fico1.describe()"
   ]
  },
  {
   "cell_type": "code",
   "execution_count": 636,
   "metadata": {
    "collapsed": false
   },
   "outputs": [],
   "source": [
    "# Now segments are selected after exclusing missing data\n",
    "# Segments are defined starting with lowest FICO score 420 and bracketed on top with the highest FICO score 850\n",
    "bins=[420,600,700,750,800,850] \n",
    "fico1['seg']=pd.cut(fico1['FICO'], bins)"
   ]
  },
  {
   "cell_type": "code",
   "execution_count": 637,
   "metadata": {
    "collapsed": false
   },
   "outputs": [
    {
     "name": "stdout",
     "output_type": "stream",
     "text": [
      "          seg      n       pct\n",
      "0  (420, 600]   1062  0.015088\n",
      "1  (600, 700]   6888  0.097862\n",
      "2  (700, 750]  10147  0.144164\n",
      "3  (750, 800]  15705  0.223130\n",
      "4  (800, 850]  36583  0.519756\n"
     ]
    }
   ],
   "source": [
    "res=freqtable(fico1)"
   ]
  },
  {
   "cell_type": "code",
   "execution_count": 638,
   "metadata": {
    "collapsed": false
   },
   "outputs": [
    {
     "data": {
      "image/png": "[encoded data removed]",
      "text/plain": [
       "<Figure size 432x288 with 2 Axes>"
      ]
     },
     "metadata": {},
     "output_type": "display_data"
    }
   ],
   "source": [
    "plotfico(res)"
   ]
  },
  {
   "cell_type": "code",
   "execution_count": 590,
   "metadata": {
    "collapsed": true
   },
   "outputs": [],
   "source": [
    "#The above result probably does not reflect a true population distribuion along these segments. I would have expected that\n",
    "#there are relatively fewer customers in the higher FICO buckets"
   ]
  },
  {
   "cell_type": "code",
   "execution_count": 591,
   "metadata": {
    "collapsed": true
   },
   "outputs": [],
   "source": [
    "#Question #2\n",
    "\n",
    "#Prepare region dataset\n",
    "region=region.sort_values(by='acct_id', ascending=True)\n",
    "region=region.drop_duplicates()"
   ]
  },
  {
   "cell_type": "code",
   "execution_count": 600,
   "metadata": {
    "collapsed": false
   },
   "outputs": [
    {
     "data": {
      "text/html": [
       "<div>\n",
       "<style scoped>\n",
       "    .dataframe tbody tr th:only-of-type {\n",
       "        vertical-align: middle;\n",
       "    }\n",
       "\n",
       "    .dataframe tbody tr th {\n",
       "        vertical-align: top;\n",
       "    }\n",
       "\n",
       "    .dataframe thead th {\n",
       "        text-align: right;\n",
       "    }\n",
       "</style>\n",
       "<table border=\"1\" class=\"dataframe\">\n",
       "  <thead>\n",
       "    <tr style=\"text-align: right;\">\n",
       "      <th></th>\n",
       "      <th>acct_id</th>\n",
       "      <th>FICO</th>\n",
       "      <th>region</th>\n",
       "    </tr>\n",
       "  </thead>\n",
       "  <tbody>\n",
       "    <tr>\n",
       "      <th>0</th>\n",
       "      <td>1</td>\n",
       "      <td>768.0</td>\n",
       "      <td>New York</td>\n",
       "    </tr>\n",
       "    <tr>\n",
       "      <th>1</th>\n",
       "      <td>2</td>\n",
       "      <td>850.0</td>\n",
       "      <td>Dallas</td>\n",
       "    </tr>\n",
       "    <tr>\n",
       "      <th>2</th>\n",
       "      <td>3</td>\n",
       "      <td>677.0</td>\n",
       "      <td>Los Angeles</td>\n",
       "    </tr>\n",
       "    <tr>\n",
       "      <th>3</th>\n",
       "      <td>4</td>\n",
       "      <td>843.0</td>\n",
       "      <td>Chicago</td>\n",
       "    </tr>\n",
       "    <tr>\n",
       "      <th>4</th>\n",
       "      <td>5</td>\n",
       "      <td>796.0</td>\n",
       "      <td>Philadelphia</td>\n",
       "    </tr>\n",
       "    <tr>\n",
       "      <th>5</th>\n",
       "      <td>6</td>\n",
       "      <td>669.0</td>\n",
       "      <td>New York</td>\n",
       "    </tr>\n",
       "    <tr>\n",
       "      <th>6</th>\n",
       "      <td>7</td>\n",
       "      <td>805.0</td>\n",
       "      <td>San Antonio</td>\n",
       "    </tr>\n",
       "    <tr>\n",
       "      <th>7</th>\n",
       "      <td>8</td>\n",
       "      <td>850.0</td>\n",
       "      <td>San Antonio</td>\n",
       "    </tr>\n",
       "    <tr>\n",
       "      <th>8</th>\n",
       "      <td>9</td>\n",
       "      <td>838.0</td>\n",
       "      <td>Houston</td>\n",
       "    </tr>\n",
       "    <tr>\n",
       "      <th>9</th>\n",
       "      <td>10</td>\n",
       "      <td>850.0</td>\n",
       "      <td>Philadelphia</td>\n",
       "    </tr>\n",
       "  </tbody>\n",
       "</table>\n",
       "</div>"
      ],
      "text/plain": [
       "   acct_id   FICO        region\n",
       "0        1  768.0      New York\n",
       "1        2  850.0        Dallas\n",
       "2        3  677.0   Los Angeles\n",
       "3        4  843.0       Chicago\n",
       "4        5  796.0  Philadelphia\n",
       "5        6  669.0      New York\n",
       "6        7  805.0   San Antonio\n",
       "7        8  850.0   San Antonio\n",
       "8        9  838.0       Houston\n",
       "9       10  850.0  Philadelphia"
      ]
     },
     "execution_count": 600,
     "metadata": {},
     "output_type": "execute_result"
    }
   ],
   "source": [
    "#Merge region data to FICO\n",
    "df=fico1.copy().drop(['seg'],axis=1)\n",
    "#Inner join to keep only customers that are in both the FICO and region datasets\n",
    "df1=pd.merge(df, region, on='acct_id', how='inner')\n",
    "df1.head(n=10)"
   ]
  },
  {
   "cell_type": "code",
   "execution_count": 601,
   "metadata": {
    "collapsed": false
   },
   "outputs": [
    {
     "data": {
      "text/html": [
       "<div>\n",
       "<style scoped>\n",
       "    .dataframe tbody tr th:only-of-type {\n",
       "        vertical-align: middle;\n",
       "    }\n",
       "\n",
       "    .dataframe tbody tr th {\n",
       "        vertical-align: top;\n",
       "    }\n",
       "\n",
       "    .dataframe thead th {\n",
       "        text-align: right;\n",
       "    }\n",
       "</style>\n",
       "<table border=\"1\" class=\"dataframe\">\n",
       "  <thead>\n",
       "    <tr style=\"text-align: right;\">\n",
       "      <th></th>\n",
       "      <th>region</th>\n",
       "      <th>FICO</th>\n",
       "    </tr>\n",
       "  </thead>\n",
       "  <tbody>\n",
       "    <tr>\n",
       "      <th>7</th>\n",
       "      <td>Phoenix</td>\n",
       "      <td>788.170231</td>\n",
       "    </tr>\n",
       "    <tr>\n",
       "      <th>2</th>\n",
       "      <td>Dallas</td>\n",
       "      <td>782.102021</td>\n",
       "    </tr>\n",
       "  </tbody>\n",
       "</table>\n",
       "</div>"
      ],
      "text/plain": [
       "    region        FICO\n",
       "7  Phoenix  788.170231\n",
       "2   Dallas  782.102021"
      ]
     },
     "execution_count": 601,
     "metadata": {},
     "output_type": "execute_result"
    }
   ],
   "source": [
    "g=df1[['region','FICO']].groupby(['region']).mean().reset_index()\n",
    "g.sort_values(by=('FICO'),ascending=False).iloc[[0, -1]]"
   ]
  },
  {
   "cell_type": "code",
   "execution_count": 608,
   "metadata": {
    "collapsed": false
   },
   "outputs": [
    {
     "name": "stdout",
     "output_type": "stream",
     "text": [
      "87.5M t-shirts sold\n"
     ]
    }
   ],
   "source": [
    "#Question #3\n",
    "\n",
    "us_pop=350000000 #us population\n",
    "pct_people_buy_tshirt=0.5 #percent of the us population that will buy a t-shirt\n",
    "perc_green_tshirt=0.1 #percent of population that will buy a green t-shirt\n",
    "avg_num_tshirt_person_1yr=5 # average number of t-shirts purchased in 1 year\n",
    "technology=1.0 #effect of technology - >1 indicates that technology makes it easier to purchase. Assumption: more t-shirts\n",
    "               #purchased on average with better technology (e.g. online purchasing and faster delivery)\n",
    "economy=1.0 #effect of economy - greater than 1 will indicate a good economy, less than one a worsering economy\n",
    "weather=1.0 #effect of weather - if greater than 1 indicates warmer weather on average, if <1 indicates colder weather\n",
    "fashion=1.0 #effect of cultural and social tastes for t-shirts\n",
    "\n",
    "green_tshirts_sold=us_pop*pct_people_buy_tshirt*perc_green_tshirt*avg_num_tshirt_person_1yr*technology*economy*weather*fashion\n",
    "\n",
    "print('{}M t-shirts sold' .format(green_tshirts_sold/1000000))"
   ]
  },
  {
   "cell_type": "code",
   "execution_count": 610,
   "metadata": {
    "collapsed": false
   },
   "outputs": [],
   "source": [
    "#Question #4\n",
    "\n",
    "#Factors that will impact sales? Possibly the economic environment, taste for green t-shirts, weather conditions, improvements\n",
    "#in technology through easier online interaction, marketing and also faster and seemless delivery options, season of year, \n",
    "#location, age\n",
    "\n"
   ]
  },
  {
   "cell_type": "code",
   "execution_count": 611,
   "metadata": {
    "collapsed": true
   },
   "outputs": [],
   "source": [
    "# To predict the number of green t-shirts in the future, one would need to collect longitudinal data on the volume of green\n",
    "# t-shirts sold over time.\n",
    "#\n",
    "# One modeling approach would be to use a time-series Poisson regression model.\n",
    "#\n",
    "# First, aggregate data to a meaningful segment level. This will mean taking aggregate measures of both the dependent and\n",
    "# independent variables, like for example the sum, mean or median within each segment.\n",
    "#\n",
    "# Segmentation would have to consider: time (whether to aggregate at monthly or yearly for example), location (zip, city,\n",
    "# county or state, etc)\n",
    "#\n",
    "# Dependent variable: count of green t-shirts over time\n",
    "# Examples of independent variables: aggregate measures on economic indicators (eg. GDP, HPI, etc), demand from earlier time-\n",
    "# point (autoregressive component), season, number of online retailers (proxy for technology variable mentioned above)\n",
    "#\n",
    "# Evaluate model accuracy\n",
    "#\n",
    "# Would need to have long enough history to be able to split the dataset into a minimum of two separate datasets:\n",
    "# (1) training and (2) test. The training dataset would be used to build the model and the test to evaluate its accuracy, and\n",
    "# its ability to generalize on \"unseen\" data. The test data should also be selected such that it taken from an \"out-of-time\"\n",
    "# period.\n",
    "#\n",
    "# The mean absolute percent error (MAPE) can be used to evaluate the model accuracy on both test and training data"
   ]
  },
  {
   "cell_type": "code",
   "execution_count": null,
   "metadata": {
    "collapsed": true
   },
   "outputs": [],
   "source": []
  }
 ],
 "metadata": {
  "kernelspec": {
   "display_name": "Python (py36)",
   "language": "python",
   "name": "py36"
  },
  "language_info": {
   "codemirror_mode": {
    "name": "ipython",
    "version": 3
   },
   "file_extension": ".py",
   "mimetype": "text/x-python",
   "name": "python",
   "nbconvert_exporter": "python",
   "pygments_lexer": "ipython3",
   "version": "3.6.8"
  }
 },
 "nbformat": 4,
 "nbformat_minor": 1
}
